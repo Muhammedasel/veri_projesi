{
 "cells": [
  {
   "cell_type": "markdown",
   "metadata": {},
   "source": [
    "## ANKET VERİLERİNDEN PARTİ TAHMİNİ"
   ]
  },
  {
   "cell_type": "markdown",
   "metadata": {},
   "source": [
    "#### Veri seti insanlardan alınan cevaplardan oluşmaktadır. Basit bir ilk makine öğrenmesi örneğimdir. Toplam 16 sütun ve 60 satır vardır. Veri içeriği cinsiyet, yaş, bölge, eğitim, 10 adet soru ve parti'dir.\n",
    "\n",
    "#### Amacımız diğer insanların verdiği cevaplara göre diğer kişilerin hangi partiyi desteklediğini tahmin edebilir miyiz? gibi soruların yanıtını bulmaktır."
   ]
  },
  {
   "cell_type": "markdown",
   "metadata": {},
   "source": [
    "## İÇİNDEKİLER\n",
    "\n",
    "### 1- Kullanılacak Kütüphanelerin Projeye Dahil Edilmesi\n",
    "### 2- Veri Kümesinin Yüklenmesi\n",
    "### 3- Verilerin Görselleştirilmesi\n",
    "#### 3.1- Yaş değişkeninin görselleştirilmesi\n",
    "#### 3.2- Yaş dağılımı\n",
    "#### 3.3- Bölge dağılımı\n",
    "#### 3.3- Eğitim dağılımı\n",
    "#### 3.3- Soruların dağılımı\n",
    "### 4- Veri Ön İşleme\n",
    "#### 4.1- Sütunların düzenlenmesi\n",
    "#### 4.2- Cinsiyet, yaş, bölge, eğitim, sorular ve partilerin numaralndırılması\n",
    "### 5- Model Oluşturma\n",
    "#### 5.1- Train ve  Test verisini oluşturma\n",
    "#### 5.2- Modellerin kurulması ve tahmin\n",
    "##### 5.2.1- Naive bayes\n",
    "##### 5.2.2- KNN\n",
    "### 6- Modellerin Değerlendirilmesi\n",
    "#### 6.1- R2 hata hesabı\n",
    "#### 6.2- Hata kareler ortalaması hesabı"
   ]
  },
  {
   "cell_type": "markdown",
   "metadata": {},
   "source": [
    "#### --------------------------------------------------------------------------------------------------------------"
   ]
  },
  {
   "cell_type": "markdown",
   "metadata": {},
   "source": [
    "### Kullanıcalak kütüphanelerin projeye dahil edilmesi."
   ]
  },
  {
   "cell_type": "code",
   "execution_count": 169,
   "metadata": {},
   "outputs": [],
   "source": [
    "import pandas as pd\n",
    "import numpy as np\n",
    "import seaborn as sns\n",
    "import matplotlib.pyplot as plt\n",
    "import seaborn as sns\n",
    "from sklearn.metrics import accuracy_score\n",
    "from sklearn.naive_bayes import GaussianNB\n",
    "from sklearn.model_selection import cross_val_score\n",
    "from sklearn.neighbors import KNeighborsClassifier\n",
    "from sklearn.ensemble import RandomForestClassifier\n"
   ]
  },
  {
   "cell_type": "markdown",
   "metadata": {},
   "source": [
    "### Veri setinin eklenmesi"
   ]
  },
  {
   "cell_type": "code",
   "execution_count": 170,
   "metadata": {},
   "outputs": [],
   "source": [
    "data = pd.read_csv(\"data.csv\")"
   ]
  },
  {
   "cell_type": "code",
   "execution_count": 171,
   "metadata": {},
   "outputs": [
    {
     "data": {
      "text/html": [
       "<div>\n",
       "<style scoped>\n",
       "    .dataframe tbody tr th:only-of-type {\n",
       "        vertical-align: middle;\n",
       "    }\n",
       "\n",
       "    .dataframe tbody tr th {\n",
       "        vertical-align: top;\n",
       "    }\n",
       "\n",
       "    .dataframe thead th {\n",
       "        text-align: right;\n",
       "    }\n",
       "</style>\n",
       "<table border=\"1\" class=\"dataframe\">\n",
       "  <thead>\n",
       "    <tr style=\"text-align: right;\">\n",
       "      <th></th>\n",
       "      <th>Timestamp</th>\n",
       "      <th>Cinsiyet</th>\n",
       "      <th>Yas</th>\n",
       "      <th>Bolge</th>\n",
       "      <th>Egitim</th>\n",
       "      <th>soru1</th>\n",
       "      <th>soru2</th>\n",
       "      <th>soru3</th>\n",
       "      <th>soru4</th>\n",
       "      <th>soru5</th>\n",
       "      <th>soru6</th>\n",
       "      <th>soru7</th>\n",
       "      <th>soru8</th>\n",
       "      <th>soru9</th>\n",
       "      <th>soru10</th>\n",
       "      <th>parti</th>\n",
       "    </tr>\n",
       "  </thead>\n",
       "  <tbody>\n",
       "    <tr>\n",
       "      <th>0</th>\n",
       "      <td>5/11/2018 1:26:14</td>\n",
       "      <td>Erkek</td>\n",
       "      <td>18-30</td>\n",
       "      <td>Marmara</td>\n",
       "      <td>Lisans</td>\n",
       "      <td>Hayır</td>\n",
       "      <td>Evet</td>\n",
       "      <td>Evet</td>\n",
       "      <td>Hayır</td>\n",
       "      <td>Hayır</td>\n",
       "      <td>Hayır</td>\n",
       "      <td>Evet</td>\n",
       "      <td>Hayır</td>\n",
       "      <td>Evet</td>\n",
       "      <td>Evet</td>\n",
       "      <td>IYI PARTI</td>\n",
       "    </tr>\n",
       "    <tr>\n",
       "      <th>1</th>\n",
       "      <td>5/11/2018 1:28:11</td>\n",
       "      <td>Erkek</td>\n",
       "      <td>18-30</td>\n",
       "      <td>Marmara</td>\n",
       "      <td>Lisans</td>\n",
       "      <td>Evet</td>\n",
       "      <td>Evet</td>\n",
       "      <td>Hayır</td>\n",
       "      <td>Evet</td>\n",
       "      <td>Hayır</td>\n",
       "      <td>Evet</td>\n",
       "      <td>Hayır</td>\n",
       "      <td>Evet</td>\n",
       "      <td>Hayır</td>\n",
       "      <td>Hayır</td>\n",
       "      <td>AKP</td>\n",
       "    </tr>\n",
       "    <tr>\n",
       "      <th>2</th>\n",
       "      <td>5/11/2018 1:28:26</td>\n",
       "      <td>Kadın</td>\n",
       "      <td>18-30</td>\n",
       "      <td>Marmara</td>\n",
       "      <td>Lisans</td>\n",
       "      <td>Hayır</td>\n",
       "      <td>Evet</td>\n",
       "      <td>Hayır</td>\n",
       "      <td>Hayır</td>\n",
       "      <td>Hayır</td>\n",
       "      <td>Hayır</td>\n",
       "      <td>Evet</td>\n",
       "      <td>Hayır</td>\n",
       "      <td>Evet</td>\n",
       "      <td>Evet</td>\n",
       "      <td>DIĞER</td>\n",
       "    </tr>\n",
       "    <tr>\n",
       "      <th>3</th>\n",
       "      <td>5/11/2018 1:30:18</td>\n",
       "      <td>Erkek</td>\n",
       "      <td>0-18</td>\n",
       "      <td>Marmara</td>\n",
       "      <td>Lise</td>\n",
       "      <td>Evet</td>\n",
       "      <td>Evet</td>\n",
       "      <td>Hayır</td>\n",
       "      <td>Evet</td>\n",
       "      <td>Hayır</td>\n",
       "      <td>Evet</td>\n",
       "      <td>Evet</td>\n",
       "      <td>Evet</td>\n",
       "      <td>Evet</td>\n",
       "      <td>Evet</td>\n",
       "      <td>IYI PARTI</td>\n",
       "    </tr>\n",
       "    <tr>\n",
       "      <th>4</th>\n",
       "      <td>5/11/2018 1:30:21</td>\n",
       "      <td>Erkek</td>\n",
       "      <td>18-30</td>\n",
       "      <td>Marmara</td>\n",
       "      <td>Ön Lisans</td>\n",
       "      <td>Hayır</td>\n",
       "      <td>Evet</td>\n",
       "      <td>Evet</td>\n",
       "      <td>Evet</td>\n",
       "      <td>Hayır</td>\n",
       "      <td>Hayır</td>\n",
       "      <td>Evet</td>\n",
       "      <td>Evet</td>\n",
       "      <td>Hayır</td>\n",
       "      <td>Hayır</td>\n",
       "      <td>IYI PARTI</td>\n",
       "    </tr>\n",
       "  </tbody>\n",
       "</table>\n",
       "</div>"
      ],
      "text/plain": [
       "           Timestamp Cinsiyet    Yas    Bolge     Egitim  soru1 soru2  soru3  \\\n",
       "0  5/11/2018 1:26:14    Erkek  18-30  Marmara     Lisans  Hayır  Evet   Evet   \n",
       "1  5/11/2018 1:28:11    Erkek  18-30  Marmara     Lisans   Evet  Evet  Hayır   \n",
       "2  5/11/2018 1:28:26    Kadın  18-30  Marmara     Lisans  Hayır  Evet  Hayır   \n",
       "3  5/11/2018 1:30:18    Erkek   0-18  Marmara       Lise   Evet  Evet  Hayır   \n",
       "4  5/11/2018 1:30:21    Erkek  18-30  Marmara  Ön Lisans  Hayır  Evet   Evet   \n",
       "\n",
       "   soru4  soru5  soru6  soru7  soru8  soru9 soru10      parti  \n",
       "0  Hayır  Hayır  Hayır   Evet  Hayır   Evet   Evet  IYI PARTI  \n",
       "1   Evet  Hayır   Evet  Hayır   Evet  Hayır  Hayır        AKP  \n",
       "2  Hayır  Hayır  Hayır   Evet  Hayır   Evet   Evet      DIĞER  \n",
       "3   Evet  Hayır   Evet   Evet   Evet   Evet   Evet  IYI PARTI  \n",
       "4   Evet  Hayır  Hayır   Evet   Evet  Hayır  Hayır  IYI PARTI  "
      ]
     },
     "execution_count": 171,
     "metadata": {},
     "output_type": "execute_result"
    }
   ],
   "source": [
    "data.head()"
   ]
  },
  {
   "cell_type": "markdown",
   "metadata": {},
   "source": [
    "### SORULAR"
   ]
  },
  {
   "cell_type": "code",
   "execution_count": 172,
   "metadata": {},
   "outputs": [],
   "source": [
    "# soru1 : Türkiyenin ekonomik durumundan memnun musunuz?\n",
    "# soru2 : Eğitim de reforma ihtiyaç var mı?\n",
    "# soru3 : Özelleştirmeyi gidermek ister misiniz?\n",
    "# soru4 : Devlet bazı suçlara idam cezası getirmeli mi?\n",
    "# soru5 : Gazetecileri tarafsız buluyor musun?\n",
    "# soru6 : Akşam 10 dan sonra alkol satma yasağını destekliyor musun?\n",
    "# soru7 : Seküler (din-devlet ayrı gibi) bir devlet ister misin?\n",
    "# soru8 : Kürtaj yasağını destekliyor musun?\n",
    "#soru9 : Ohal'ın özgürlüklerini kısıtladığını düşünüyor musun?\n",
    "#soru10 : Meclise yeni bir partinin girmesini ister misin?"
   ]
  },
  {
   "cell_type": "code",
   "execution_count": 173,
   "metadata": {},
   "outputs": [
    {
     "data": {
      "text/html": [
       "<div>\n",
       "<style scoped>\n",
       "    .dataframe tbody tr th:only-of-type {\n",
       "        vertical-align: middle;\n",
       "    }\n",
       "\n",
       "    .dataframe tbody tr th {\n",
       "        vertical-align: top;\n",
       "    }\n",
       "\n",
       "    .dataframe thead th {\n",
       "        text-align: right;\n",
       "    }\n",
       "</style>\n",
       "<table border=\"1\" class=\"dataframe\">\n",
       "  <thead>\n",
       "    <tr style=\"text-align: right;\">\n",
       "      <th></th>\n",
       "      <th>Timestamp</th>\n",
       "      <th>Cinsiyet</th>\n",
       "      <th>Yas</th>\n",
       "      <th>Bolge</th>\n",
       "      <th>Egitim</th>\n",
       "      <th>soru1</th>\n",
       "      <th>soru2</th>\n",
       "      <th>soru3</th>\n",
       "      <th>soru4</th>\n",
       "      <th>soru5</th>\n",
       "      <th>soru6</th>\n",
       "      <th>soru7</th>\n",
       "      <th>soru8</th>\n",
       "      <th>soru9</th>\n",
       "      <th>soru10</th>\n",
       "      <th>parti</th>\n",
       "    </tr>\n",
       "  </thead>\n",
       "  <tbody>\n",
       "    <tr>\n",
       "      <th>0</th>\n",
       "      <td>5/11/2018 1:26:14</td>\n",
       "      <td>Erkek</td>\n",
       "      <td>18-30</td>\n",
       "      <td>Marmara</td>\n",
       "      <td>Lisans</td>\n",
       "      <td>Hayır</td>\n",
       "      <td>Evet</td>\n",
       "      <td>Evet</td>\n",
       "      <td>Hayır</td>\n",
       "      <td>Hayır</td>\n",
       "      <td>Hayır</td>\n",
       "      <td>Evet</td>\n",
       "      <td>Hayır</td>\n",
       "      <td>Evet</td>\n",
       "      <td>Evet</td>\n",
       "      <td>IYI PARTI</td>\n",
       "    </tr>\n",
       "    <tr>\n",
       "      <th>1</th>\n",
       "      <td>5/11/2018 1:28:11</td>\n",
       "      <td>Erkek</td>\n",
       "      <td>18-30</td>\n",
       "      <td>Marmara</td>\n",
       "      <td>Lisans</td>\n",
       "      <td>Evet</td>\n",
       "      <td>Evet</td>\n",
       "      <td>Hayır</td>\n",
       "      <td>Evet</td>\n",
       "      <td>Hayır</td>\n",
       "      <td>Evet</td>\n",
       "      <td>Hayır</td>\n",
       "      <td>Evet</td>\n",
       "      <td>Hayır</td>\n",
       "      <td>Hayır</td>\n",
       "      <td>AKP</td>\n",
       "    </tr>\n",
       "    <tr>\n",
       "      <th>2</th>\n",
       "      <td>5/11/2018 1:28:26</td>\n",
       "      <td>Kadın</td>\n",
       "      <td>18-30</td>\n",
       "      <td>Marmara</td>\n",
       "      <td>Lisans</td>\n",
       "      <td>Hayır</td>\n",
       "      <td>Evet</td>\n",
       "      <td>Hayır</td>\n",
       "      <td>Hayır</td>\n",
       "      <td>Hayır</td>\n",
       "      <td>Hayır</td>\n",
       "      <td>Evet</td>\n",
       "      <td>Hayır</td>\n",
       "      <td>Evet</td>\n",
       "      <td>Evet</td>\n",
       "      <td>DIĞER</td>\n",
       "    </tr>\n",
       "    <tr>\n",
       "      <th>3</th>\n",
       "      <td>5/11/2018 1:30:18</td>\n",
       "      <td>Erkek</td>\n",
       "      <td>0-18</td>\n",
       "      <td>Marmara</td>\n",
       "      <td>Lise</td>\n",
       "      <td>Evet</td>\n",
       "      <td>Evet</td>\n",
       "      <td>Hayır</td>\n",
       "      <td>Evet</td>\n",
       "      <td>Hayır</td>\n",
       "      <td>Evet</td>\n",
       "      <td>Evet</td>\n",
       "      <td>Evet</td>\n",
       "      <td>Evet</td>\n",
       "      <td>Evet</td>\n",
       "      <td>IYI PARTI</td>\n",
       "    </tr>\n",
       "    <tr>\n",
       "      <th>4</th>\n",
       "      <td>5/11/2018 1:30:21</td>\n",
       "      <td>Erkek</td>\n",
       "      <td>18-30</td>\n",
       "      <td>Marmara</td>\n",
       "      <td>Ön Lisans</td>\n",
       "      <td>Hayır</td>\n",
       "      <td>Evet</td>\n",
       "      <td>Evet</td>\n",
       "      <td>Evet</td>\n",
       "      <td>Hayır</td>\n",
       "      <td>Hayır</td>\n",
       "      <td>Evet</td>\n",
       "      <td>Evet</td>\n",
       "      <td>Hayır</td>\n",
       "      <td>Hayır</td>\n",
       "      <td>IYI PARTI</td>\n",
       "    </tr>\n",
       "  </tbody>\n",
       "</table>\n",
       "</div>"
      ],
      "text/plain": [
       "           Timestamp Cinsiyet    Yas    Bolge     Egitim  soru1 soru2  soru3  \\\n",
       "0  5/11/2018 1:26:14    Erkek  18-30  Marmara     Lisans  Hayır  Evet   Evet   \n",
       "1  5/11/2018 1:28:11    Erkek  18-30  Marmara     Lisans   Evet  Evet  Hayır   \n",
       "2  5/11/2018 1:28:26    Kadın  18-30  Marmara     Lisans  Hayır  Evet  Hayır   \n",
       "3  5/11/2018 1:30:18    Erkek   0-18  Marmara       Lise   Evet  Evet  Hayır   \n",
       "4  5/11/2018 1:30:21    Erkek  18-30  Marmara  Ön Lisans  Hayır  Evet   Evet   \n",
       "\n",
       "   soru4  soru5  soru6  soru7  soru8  soru9 soru10      parti  \n",
       "0  Hayır  Hayır  Hayır   Evet  Hayır   Evet   Evet  IYI PARTI  \n",
       "1   Evet  Hayır   Evet  Hayır   Evet  Hayır  Hayır        AKP  \n",
       "2  Hayır  Hayır  Hayır   Evet  Hayır   Evet   Evet      DIĞER  \n",
       "3   Evet  Hayır   Evet   Evet   Evet   Evet   Evet  IYI PARTI  \n",
       "4   Evet  Hayır  Hayır   Evet   Evet  Hayır  Hayır  IYI PARTI  "
      ]
     },
     "execution_count": 173,
     "metadata": {},
     "output_type": "execute_result"
    }
   ],
   "source": [
    "data.head()"
   ]
  },
  {
   "cell_type": "markdown",
   "metadata": {},
   "source": [
    "## VERİ GÖRSELLEŞTİRME"
   ]
  },
  {
   "cell_type": "markdown",
   "metadata": {},
   "source": [
    "### Veri setinin pasta dilimi ile görselleştirilmesi"
   ]
  },
  {
   "cell_type": "markdown",
   "metadata": {},
   "source": [
    "### Ankete katılanların yaş dağılımı"
   ]
  },
  {
   "cell_type": "code",
   "execution_count": 174,
   "metadata": {},
   "outputs": [
    {
     "data": {
      "image/png": "[encoded data removed]",
      "text/plain": [
       "<Figure size 360x360 with 1 Axes>"
      ]
     },
     "metadata": {},
     "output_type": "display_data"
    }
   ],
   "source": [
    "fig = plt.figure(figsize=(5,5))\n",
    "data['Yas'].value_counts().plot(kind = 'pie',autopct='%.1f%%')\n",
    "plt.ylabel(\"yaş\", fontsize = 20)\n",
    "plt.title(\"Yaş ortalamasının dağılımı\");\n"
   ]
  },
  {
   "cell_type": "markdown",
   "metadata": {},
   "source": [
    "### Ankete katılanların bölge dağılımı"
   ]
  },
  {
   "cell_type": "code",
   "execution_count": 175,
   "metadata": {},
   "outputs": [
    {
     "data": {
      "image/png": "[encoded data removed]",
      "text/plain": [
       "<Figure size 360x360 with 1 Axes>"
      ]
     },
     "metadata": {},
     "output_type": "display_data"
    }
   ],
   "source": [
    "fig = plt.figure(figsize=(5,5))\n",
    "data['Bolge'].value_counts().plot(kind = 'pie',autopct='%.1f%%')\n",
    "plt.ylabel(\"Bölge\", fontsize = 15)\n",
    "plt.title(\"Bölge ortalamasının dağılımı\");"
   ]
  },
  {
   "cell_type": "markdown",
   "metadata": {},
   "source": [
    "### Ankete katılanların destekledikleri parti dağılımı"
   ]
  },
  {
   "cell_type": "code",
   "execution_count": 176,
   "metadata": {},
   "outputs": [
    {
     "data": {
      "image/png": "[encoded data removed]",
      "text/plain": [
       "<Figure size 360x360 with 1 Axes>"
      ]
     },
     "metadata": {},
     "output_type": "display_data"
    }
   ],
   "source": [
    "fig = plt.figure(figsize=(5,5))\n",
    "data[\"parti\"].value_counts().plot(kind = \"pie\", autopct = \"%.1f%%\")\n",
    "plt.ylabel(\"Parti\", fontsize = 15)\n",
    "plt.title(\"Parti Dağılımı\");"
   ]
  },
  {
   "cell_type": "markdown",
   "metadata": {},
   "source": [
    "### Ankete katılanların cevap dağılımı"
   ]
  },
  {
   "cell_type": "markdown",
   "metadata": {},
   "source": [
    "#### soru 1 Dağılımı"
   ]
  },
  {
   "cell_type": "code",
   "execution_count": 177,
   "metadata": {},
   "outputs": [
    {
     "data": {
      "image/png": "[encoded data removed]",
      "text/plain": [
       "<Figure size 360x360 with 1 Axes>"
      ]
     },
     "metadata": {},
     "output_type": "display_data"
    }
   ],
   "source": [
    "fig = plt.figure(figsize=(5,5))\n",
    "data['soru1'].value_counts().plot(kind = 'pie', autopct='%.1f%%')\n",
    "plt.ylabel(\"Soru 1\", fontsize = 15)\n",
    "plt.title(\"Ekonomiden memnun musunuz?\");"
   ]
  },
  {
   "cell_type": "markdown",
   "metadata": {},
   "source": [
    "#### Soru 2 Dağılımı"
   ]
  },
  {
   "cell_type": "code",
   "execution_count": 178,
   "metadata": {},
   "outputs": [
    {
     "data": {
      "image/png": "[encoded data removed]",
      "text/plain": [
       "<Figure size 360x360 with 1 Axes>"
      ]
     },
     "metadata": {},
     "output_type": "display_data"
    }
   ],
   "source": [
    "fig = plt.figure(figsize=(5,5))\n",
    "data['soru2'].value_counts().plot(kind = 'pie', autopct='%.1f%%')\n",
    "plt.ylabel(\"Soru 2\", fontsize = 15)\n",
    "plt.title(\"Eğitimde Reforma İhtiyaç var mı?\");"
   ]
  },
  {
   "cell_type": "markdown",
   "metadata": {},
   "source": [
    "#### Soru 3 Dağılımı"
   ]
  },
  {
   "cell_type": "code",
   "execution_count": 179,
   "metadata": {},
   "outputs": [
    {
     "data": {
      "image/png": "[encoded data removed]",
      "text/plain": [
       "<Figure size 360x360 with 1 Axes>"
      ]
     },
     "metadata": {},
     "output_type": "display_data"
    }
   ],
   "source": [
    "fig = plt.figure(figsize=(5,5))\n",
    "data['soru3'].value_counts().plot(kind = 'pie', autopct='%.1f%%')\n",
    "plt.ylabel(\"Soru 3\", fontsize = 15)\n",
    "plt.title(\"Özelleştirmeyi gidermek ister misiniz?\");"
   ]
  },
  {
   "cell_type": "markdown",
   "metadata": {},
   "source": [
    "#### Soru 4 Dağılımı"
   ]
  },
  {
   "cell_type": "code",
   "execution_count": 180,
   "metadata": {},
   "outputs": [
    {
     "data": {
      "image/png": "[encoded data removed]",
      "text/plain": [
       "<Figure size 360x360 with 1 Axes>"
      ]
     },
     "metadata": {},
     "output_type": "display_data"
    }
   ],
   "source": [
    "fig = plt.figure(figsize=(5,5))\n",
    "data['soru4'].value_counts().plot(kind = 'pie', autopct='%.1f%%')\n",
    "plt.ylabel(\"Soru 4\", fontsize = 15)\n",
    "plt.title(\"Devlet bazı suçlara idam cezası getirmeli mi?\");"
   ]
  },
  {
   "cell_type": "markdown",
   "metadata": {},
   "source": [
    "#### Soru 5 Dağılımı"
   ]
  },
  {
   "cell_type": "code",
   "execution_count": 181,
   "metadata": {},
   "outputs": [
    {
     "data": {
      "image/png": "[encoded data removed]",
      "text/plain": [
       "<Figure size 360x360 with 1 Axes>"
      ]
     },
     "metadata": {},
     "output_type": "display_data"
    }
   ],
   "source": [
    "fig = plt.figure(figsize=(5,5))\n",
    "data['soru5'].value_counts().plot(kind = 'pie', autopct='%.1f%%')\n",
    "plt.ylabel(\"Soru 5\", fontsize = 15)\n",
    "plt.title(\"Gazetecileri tarafsız buluyor musunuz?\");"
   ]
  },
  {
   "cell_type": "markdown",
   "metadata": {},
   "source": [
    "#### Soru 6 Dağılımı"
   ]
  },
  {
   "cell_type": "code",
   "execution_count": 182,
   "metadata": {},
   "outputs": [
    {
     "data": {
      "image/png": "[encoded data removed]",
      "text/plain": [
       "<Figure size 360x360 with 1 Axes>"
      ]
     },
     "metadata": {},
     "output_type": "display_data"
    }
   ],
   "source": [
    "fig = plt.figure(figsize=(5,5))\n",
    "data['soru6'].value_counts().plot(kind = 'pie', autopct='%.1f%%')\n",
    "plt.ylabel(\"Soru 6\", fontsize = 15)\n",
    "plt.title(\"Akşam saat 10 dan sonra alkol yasağını destekliyor musunuz?\");"
   ]
  },
  {
   "cell_type": "markdown",
   "metadata": {},
   "source": [
    "#### Soru 7 Dağılımı"
   ]
  },
  {
   "cell_type": "code",
   "execution_count": 183,
   "metadata": {},
   "outputs": [
    {
     "data": {
      "image/png": "[encoded data removed]",
      "text/plain": [
       "<Figure size 360x360 with 1 Axes>"
      ]
     },
     "metadata": {},
     "output_type": "display_data"
    }
   ],
   "source": [
    "fig = plt.figure(figsize=(5,5))\n",
    "data['soru7'].value_counts().plot(kind = 'pie', autopct='%.1f%%')\n",
    "plt.ylabel(\"Soru 7\", fontsize = 15)\n",
    "plt.title(\"Seküler bir devlette yaşamak ister misiniz?\");"
   ]
  },
  {
   "cell_type": "markdown",
   "metadata": {},
   "source": [
    "#### Soru 8 Dağılımı"
   ]
  },
  {
   "cell_type": "code",
   "execution_count": 184,
   "metadata": {},
   "outputs": [
    {
     "data": {
      "image/png": "[encoded data removed]",
      "text/plain": [
       "<Figure size 360x360 with 1 Axes>"
      ]
     },
     "metadata": {},
     "output_type": "display_data"
    }
   ],
   "source": [
    "fig = plt.figure(figsize=(5,5))\n",
    "data['soru8'].value_counts().plot(kind = 'pie', autopct='%.1f%%')\n",
    "plt.ylabel(\"Soru 8\", fontsize = 15)\n",
    "plt.title(\"Kürtaj yasağını destekliyor musunuz?\");"
   ]
  },
  {
   "cell_type": "markdown",
   "metadata": {},
   "source": [
    "#### Soru 9 Dağılımı"
   ]
  },
  {
   "cell_type": "code",
   "execution_count": 185,
   "metadata": {},
   "outputs": [
    {
     "data": {
      "image/png": "[encoded data removed]",
      "text/plain": [
       "<Figure size 360x360 with 1 Axes>"
      ]
     },
     "metadata": {},
     "output_type": "display_data"
    }
   ],
   "source": [
    "fig = plt.figure(figsize=(5,5))\n",
    "data['soru9'].value_counts().plot(kind = 'pie', autopct='%.1f%%')\n",
    "plt.ylabel(\"Soru 9\", fontsize = 15)\n",
    "plt.title(\"OHAL'in özgürlükleri kısıtladığını düşünüyor musunuz?\");"
   ]
  },
  {
   "cell_type": "markdown",
   "metadata": {},
   "source": [
    "#### Soru 10 Dağılımı"
   ]
  },
  {
   "cell_type": "code",
   "execution_count": 186,
   "metadata": {},
   "outputs": [
    {
     "data": {
      "image/png": "[encoded data removed]",
      "text/plain": [
       "<Figure size 360x360 with 1 Axes>"
      ]
     },
     "metadata": {},
     "output_type": "display_data"
    }
   ],
   "source": [
    "fig = plt.figure(figsize=(5,5))\n",
    "data['soru10'].value_counts().plot(kind = 'pie', autopct='%.1f%%')\n",
    "plt.ylabel(\"Soru 10\", fontsize = 15)\n",
    "plt.title(\"Meclise yeni bir partinin girmesini ister misiniz?\");"
   ]
  },
  {
   "cell_type": "markdown",
   "metadata": {},
   "source": [
    "## VERİ DÜZENLEME"
   ]
  },
  {
   "cell_type": "markdown",
   "metadata": {},
   "source": [
    "#### Zaman sütunun temizlenmesi"
   ]
  },
  {
   "cell_type": "code",
   "execution_count": 187,
   "metadata": {},
   "outputs": [],
   "source": [
    "del data[\"Timestamp\"]"
   ]
  },
  {
   "cell_type": "code",
   "execution_count": 188,
   "metadata": {},
   "outputs": [
    {
     "data": {
      "text/html": [
       "<div>\n",
       "<style scoped>\n",
       "    .dataframe tbody tr th:only-of-type {\n",
       "        vertical-align: middle;\n",
       "    }\n",
       "\n",
       "    .dataframe tbody tr th {\n",
       "        vertical-align: top;\n",
       "    }\n",
       "\n",
       "    .dataframe thead th {\n",
       "        text-align: right;\n",
       "    }\n",
       "</style>\n",
       "<table border=\"1\" class=\"dataframe\">\n",
       "  <thead>\n",
       "    <tr style=\"text-align: right;\">\n",
       "      <th></th>\n",
       "      <th>Cinsiyet</th>\n",
       "      <th>Yas</th>\n",
       "      <th>Bolge</th>\n",
       "      <th>Egitim</th>\n",
       "      <th>soru1</th>\n",
       "      <th>soru2</th>\n",
       "      <th>soru3</th>\n",
       "      <th>soru4</th>\n",
       "      <th>soru5</th>\n",
       "      <th>soru6</th>\n",
       "      <th>soru7</th>\n",
       "      <th>soru8</th>\n",
       "      <th>soru9</th>\n",
       "      <th>soru10</th>\n",
       "      <th>parti</th>\n",
       "    </tr>\n",
       "  </thead>\n",
       "  <tbody>\n",
       "    <tr>\n",
       "      <th>0</th>\n",
       "      <td>Erkek</td>\n",
       "      <td>18-30</td>\n",
       "      <td>Marmara</td>\n",
       "      <td>Lisans</td>\n",
       "      <td>Hayır</td>\n",
       "      <td>Evet</td>\n",
       "      <td>Evet</td>\n",
       "      <td>Hayır</td>\n",
       "      <td>Hayır</td>\n",
       "      <td>Hayır</td>\n",
       "      <td>Evet</td>\n",
       "      <td>Hayır</td>\n",
       "      <td>Evet</td>\n",
       "      <td>Evet</td>\n",
       "      <td>IYI PARTI</td>\n",
       "    </tr>\n",
       "    <tr>\n",
       "      <th>1</th>\n",
       "      <td>Erkek</td>\n",
       "      <td>18-30</td>\n",
       "      <td>Marmara</td>\n",
       "      <td>Lisans</td>\n",
       "      <td>Evet</td>\n",
       "      <td>Evet</td>\n",
       "      <td>Hayır</td>\n",
       "      <td>Evet</td>\n",
       "      <td>Hayır</td>\n",
       "      <td>Evet</td>\n",
       "      <td>Hayır</td>\n",
       "      <td>Evet</td>\n",
       "      <td>Hayır</td>\n",
       "      <td>Hayır</td>\n",
       "      <td>AKP</td>\n",
       "    </tr>\n",
       "    <tr>\n",
       "      <th>2</th>\n",
       "      <td>Kadın</td>\n",
       "      <td>18-30</td>\n",
       "      <td>Marmara</td>\n",
       "      <td>Lisans</td>\n",
       "      <td>Hayır</td>\n",
       "      <td>Evet</td>\n",
       "      <td>Hayır</td>\n",
       "      <td>Hayır</td>\n",
       "      <td>Hayır</td>\n",
       "      <td>Hayır</td>\n",
       "      <td>Evet</td>\n",
       "      <td>Hayır</td>\n",
       "      <td>Evet</td>\n",
       "      <td>Evet</td>\n",
       "      <td>DIĞER</td>\n",
       "    </tr>\n",
       "    <tr>\n",
       "      <th>3</th>\n",
       "      <td>Erkek</td>\n",
       "      <td>0-18</td>\n",
       "      <td>Marmara</td>\n",
       "      <td>Lise</td>\n",
       "      <td>Evet</td>\n",
       "      <td>Evet</td>\n",
       "      <td>Hayır</td>\n",
       "      <td>Evet</td>\n",
       "      <td>Hayır</td>\n",
       "      <td>Evet</td>\n",
       "      <td>Evet</td>\n",
       "      <td>Evet</td>\n",
       "      <td>Evet</td>\n",
       "      <td>Evet</td>\n",
       "      <td>IYI PARTI</td>\n",
       "    </tr>\n",
       "    <tr>\n",
       "      <th>4</th>\n",
       "      <td>Erkek</td>\n",
       "      <td>18-30</td>\n",
       "      <td>Marmara</td>\n",
       "      <td>Ön Lisans</td>\n",
       "      <td>Hayır</td>\n",
       "      <td>Evet</td>\n",
       "      <td>Evet</td>\n",
       "      <td>Evet</td>\n",
       "      <td>Hayır</td>\n",
       "      <td>Hayır</td>\n",
       "      <td>Evet</td>\n",
       "      <td>Evet</td>\n",
       "      <td>Hayır</td>\n",
       "      <td>Hayır</td>\n",
       "      <td>IYI PARTI</td>\n",
       "    </tr>\n",
       "  </tbody>\n",
       "</table>\n",
       "</div>"
      ],
      "text/plain": [
       "  Cinsiyet    Yas    Bolge     Egitim  soru1 soru2  soru3  soru4  soru5  \\\n",
       "0    Erkek  18-30  Marmara     Lisans  Hayır  Evet   Evet  Hayır  Hayır   \n",
       "1    Erkek  18-30  Marmara     Lisans   Evet  Evet  Hayır   Evet  Hayır   \n",
       "2    Kadın  18-30  Marmara     Lisans  Hayır  Evet  Hayır  Hayır  Hayır   \n",
       "3    Erkek   0-18  Marmara       Lise   Evet  Evet  Hayır   Evet  Hayır   \n",
       "4    Erkek  18-30  Marmara  Ön Lisans  Hayır  Evet   Evet   Evet  Hayır   \n",
       "\n",
       "   soru6  soru7  soru8  soru9 soru10      parti  \n",
       "0  Hayır   Evet  Hayır   Evet   Evet  IYI PARTI  \n",
       "1   Evet  Hayır   Evet  Hayır  Hayır        AKP  \n",
       "2  Hayır   Evet  Hayır   Evet   Evet      DIĞER  \n",
       "3   Evet   Evet   Evet   Evet   Evet  IYI PARTI  \n",
       "4  Hayır   Evet   Evet  Hayır  Hayır  IYI PARTI  "
      ]
     },
     "execution_count": 188,
     "metadata": {},
     "output_type": "execute_result"
    }
   ],
   "source": [
    "data.head()"
   ]
  },
  {
   "cell_type": "code",
   "execution_count": null,
   "metadata": {},
   "outputs": [],
   "source": []
  },
  {
   "cell_type": "markdown",
   "metadata": {},
   "source": [
    "### Veri setinde yaş sütununu belirli aralıklar ile bölerek numaralandırarak sınırlandırıyoruz."
   ]
  },
  {
   "cell_type": "code",
   "execution_count": 189,
   "metadata": {},
   "outputs": [],
   "source": [
    "map_data = [data]\n",
    "yas_mapping = {\"0-18\" : 1, \"18-30\" : 2, \"30-50\" : 3, \"50-60\" : 4, \"60+\" : 5 }\n",
    "for dataset in map_data:\n",
    "    dataset[\"Yas\"] = dataset[\"Yas\"].map(yas_mapping)\n",
    "    dataset[\"Yas\"] = dataset[\"Yas\"].fillna(0)\n",
    "    \n"
   ]
  },
  {
   "cell_type": "code",
   "execution_count": 190,
   "metadata": {},
   "outputs": [
    {
     "data": {
      "text/html": [
       "<div>\n",
       "<style scoped>\n",
       "    .dataframe tbody tr th:only-of-type {\n",
       "        vertical-align: middle;\n",
       "    }\n",
       "\n",
       "    .dataframe tbody tr th {\n",
       "        vertical-align: top;\n",
       "    }\n",
       "\n",
       "    .dataframe thead th {\n",
       "        text-align: right;\n",
       "    }\n",
       "</style>\n",
       "<table border=\"1\" class=\"dataframe\">\n",
       "  <thead>\n",
       "    <tr style=\"text-align: right;\">\n",
       "      <th></th>\n",
       "      <th>Cinsiyet</th>\n",
       "      <th>Yas</th>\n",
       "      <th>Bolge</th>\n",
       "      <th>Egitim</th>\n",
       "      <th>soru1</th>\n",
       "      <th>soru2</th>\n",
       "      <th>soru3</th>\n",
       "      <th>soru4</th>\n",
       "      <th>soru5</th>\n",
       "      <th>soru6</th>\n",
       "      <th>soru7</th>\n",
       "      <th>soru8</th>\n",
       "      <th>soru9</th>\n",
       "      <th>soru10</th>\n",
       "      <th>parti</th>\n",
       "    </tr>\n",
       "  </thead>\n",
       "  <tbody>\n",
       "    <tr>\n",
       "      <th>0</th>\n",
       "      <td>Erkek</td>\n",
       "      <td>2</td>\n",
       "      <td>Marmara</td>\n",
       "      <td>Lisans</td>\n",
       "      <td>Hayır</td>\n",
       "      <td>Evet</td>\n",
       "      <td>Evet</td>\n",
       "      <td>Hayır</td>\n",
       "      <td>Hayır</td>\n",
       "      <td>Hayır</td>\n",
       "      <td>Evet</td>\n",
       "      <td>Hayır</td>\n",
       "      <td>Evet</td>\n",
       "      <td>Evet</td>\n",
       "      <td>IYI PARTI</td>\n",
       "    </tr>\n",
       "    <tr>\n",
       "      <th>1</th>\n",
       "      <td>Erkek</td>\n",
       "      <td>2</td>\n",
       "      <td>Marmara</td>\n",
       "      <td>Lisans</td>\n",
       "      <td>Evet</td>\n",
       "      <td>Evet</td>\n",
       "      <td>Hayır</td>\n",
       "      <td>Evet</td>\n",
       "      <td>Hayır</td>\n",
       "      <td>Evet</td>\n",
       "      <td>Hayır</td>\n",
       "      <td>Evet</td>\n",
       "      <td>Hayır</td>\n",
       "      <td>Hayır</td>\n",
       "      <td>AKP</td>\n",
       "    </tr>\n",
       "    <tr>\n",
       "      <th>2</th>\n",
       "      <td>Kadın</td>\n",
       "      <td>2</td>\n",
       "      <td>Marmara</td>\n",
       "      <td>Lisans</td>\n",
       "      <td>Hayır</td>\n",
       "      <td>Evet</td>\n",
       "      <td>Hayır</td>\n",
       "      <td>Hayır</td>\n",
       "      <td>Hayır</td>\n",
       "      <td>Hayır</td>\n",
       "      <td>Evet</td>\n",
       "      <td>Hayır</td>\n",
       "      <td>Evet</td>\n",
       "      <td>Evet</td>\n",
       "      <td>DIĞER</td>\n",
       "    </tr>\n",
       "    <tr>\n",
       "      <th>3</th>\n",
       "      <td>Erkek</td>\n",
       "      <td>1</td>\n",
       "      <td>Marmara</td>\n",
       "      <td>Lise</td>\n",
       "      <td>Evet</td>\n",
       "      <td>Evet</td>\n",
       "      <td>Hayır</td>\n",
       "      <td>Evet</td>\n",
       "      <td>Hayır</td>\n",
       "      <td>Evet</td>\n",
       "      <td>Evet</td>\n",
       "      <td>Evet</td>\n",
       "      <td>Evet</td>\n",
       "      <td>Evet</td>\n",
       "      <td>IYI PARTI</td>\n",
       "    </tr>\n",
       "    <tr>\n",
       "      <th>4</th>\n",
       "      <td>Erkek</td>\n",
       "      <td>2</td>\n",
       "      <td>Marmara</td>\n",
       "      <td>Ön Lisans</td>\n",
       "      <td>Hayır</td>\n",
       "      <td>Evet</td>\n",
       "      <td>Evet</td>\n",
       "      <td>Evet</td>\n",
       "      <td>Hayır</td>\n",
       "      <td>Hayır</td>\n",
       "      <td>Evet</td>\n",
       "      <td>Evet</td>\n",
       "      <td>Hayır</td>\n",
       "      <td>Hayır</td>\n",
       "      <td>IYI PARTI</td>\n",
       "    </tr>\n",
       "  </tbody>\n",
       "</table>\n",
       "</div>"
      ],
      "text/plain": [
       "  Cinsiyet  Yas    Bolge     Egitim  soru1 soru2  soru3  soru4  soru5  soru6  \\\n",
       "0    Erkek    2  Marmara     Lisans  Hayır  Evet   Evet  Hayır  Hayır  Hayır   \n",
       "1    Erkek    2  Marmara     Lisans   Evet  Evet  Hayır   Evet  Hayır   Evet   \n",
       "2    Kadın    2  Marmara     Lisans  Hayır  Evet  Hayır  Hayır  Hayır  Hayır   \n",
       "3    Erkek    1  Marmara       Lise   Evet  Evet  Hayır   Evet  Hayır   Evet   \n",
       "4    Erkek    2  Marmara  Ön Lisans  Hayır  Evet   Evet   Evet  Hayır  Hayır   \n",
       "\n",
       "   soru7  soru8  soru9 soru10      parti  \n",
       "0   Evet  Hayır   Evet   Evet  IYI PARTI  \n",
       "1  Hayır   Evet  Hayır  Hayır        AKP  \n",
       "2   Evet  Hayır   Evet   Evet      DIĞER  \n",
       "3   Evet   Evet   Evet   Evet  IYI PARTI  \n",
       "4   Evet   Evet  Hayır  Hayır  IYI PARTI  "
      ]
     },
     "execution_count": 190,
     "metadata": {},
     "output_type": "execute_result"
    }
   ],
   "source": [
    "data.head()"
   ]
  },
  {
   "cell_type": "markdown",
   "metadata": {},
   "source": [
    "### Veri setinde bölge sütununu bölgelere göre numaralandırarak sınırlandırıyoruz."
   ]
  },
  {
   "cell_type": "code",
   "execution_count": 191,
   "metadata": {},
   "outputs": [
    {
     "data": {
      "text/html": [
       "<div>\n",
       "<style scoped>\n",
       "    .dataframe tbody tr th:only-of-type {\n",
       "        vertical-align: middle;\n",
       "    }\n",
       "\n",
       "    .dataframe tbody tr th {\n",
       "        vertical-align: top;\n",
       "    }\n",
       "\n",
       "    .dataframe thead th {\n",
       "        text-align: right;\n",
       "    }\n",
       "</style>\n",
       "<table border=\"1\" class=\"dataframe\">\n",
       "  <thead>\n",
       "    <tr style=\"text-align: right;\">\n",
       "      <th></th>\n",
       "      <th>Cinsiyet</th>\n",
       "      <th>Yas</th>\n",
       "      <th>Bolge</th>\n",
       "      <th>Egitim</th>\n",
       "      <th>soru1</th>\n",
       "      <th>soru2</th>\n",
       "      <th>soru3</th>\n",
       "      <th>soru4</th>\n",
       "      <th>soru5</th>\n",
       "      <th>soru6</th>\n",
       "      <th>soru7</th>\n",
       "      <th>soru8</th>\n",
       "      <th>soru9</th>\n",
       "      <th>soru10</th>\n",
       "      <th>parti</th>\n",
       "    </tr>\n",
       "  </thead>\n",
       "  <tbody>\n",
       "    <tr>\n",
       "      <th>0</th>\n",
       "      <td>Erkek</td>\n",
       "      <td>2</td>\n",
       "      <td>1</td>\n",
       "      <td>Lisans</td>\n",
       "      <td>Hayır</td>\n",
       "      <td>Evet</td>\n",
       "      <td>Evet</td>\n",
       "      <td>Hayır</td>\n",
       "      <td>Hayır</td>\n",
       "      <td>Hayır</td>\n",
       "      <td>Evet</td>\n",
       "      <td>Hayır</td>\n",
       "      <td>Evet</td>\n",
       "      <td>Evet</td>\n",
       "      <td>IYI PARTI</td>\n",
       "    </tr>\n",
       "    <tr>\n",
       "      <th>1</th>\n",
       "      <td>Erkek</td>\n",
       "      <td>2</td>\n",
       "      <td>1</td>\n",
       "      <td>Lisans</td>\n",
       "      <td>Evet</td>\n",
       "      <td>Evet</td>\n",
       "      <td>Hayır</td>\n",
       "      <td>Evet</td>\n",
       "      <td>Hayır</td>\n",
       "      <td>Evet</td>\n",
       "      <td>Hayır</td>\n",
       "      <td>Evet</td>\n",
       "      <td>Hayır</td>\n",
       "      <td>Hayır</td>\n",
       "      <td>AKP</td>\n",
       "    </tr>\n",
       "    <tr>\n",
       "      <th>2</th>\n",
       "      <td>Kadın</td>\n",
       "      <td>2</td>\n",
       "      <td>1</td>\n",
       "      <td>Lisans</td>\n",
       "      <td>Hayır</td>\n",
       "      <td>Evet</td>\n",
       "      <td>Hayır</td>\n",
       "      <td>Hayır</td>\n",
       "      <td>Hayır</td>\n",
       "      <td>Hayır</td>\n",
       "      <td>Evet</td>\n",
       "      <td>Hayır</td>\n",
       "      <td>Evet</td>\n",
       "      <td>Evet</td>\n",
       "      <td>DIĞER</td>\n",
       "    </tr>\n",
       "    <tr>\n",
       "      <th>3</th>\n",
       "      <td>Erkek</td>\n",
       "      <td>1</td>\n",
       "      <td>1</td>\n",
       "      <td>Lise</td>\n",
       "      <td>Evet</td>\n",
       "      <td>Evet</td>\n",
       "      <td>Hayır</td>\n",
       "      <td>Evet</td>\n",
       "      <td>Hayır</td>\n",
       "      <td>Evet</td>\n",
       "      <td>Evet</td>\n",
       "      <td>Evet</td>\n",
       "      <td>Evet</td>\n",
       "      <td>Evet</td>\n",
       "      <td>IYI PARTI</td>\n",
       "    </tr>\n",
       "    <tr>\n",
       "      <th>4</th>\n",
       "      <td>Erkek</td>\n",
       "      <td>2</td>\n",
       "      <td>1</td>\n",
       "      <td>Ön Lisans</td>\n",
       "      <td>Hayır</td>\n",
       "      <td>Evet</td>\n",
       "      <td>Evet</td>\n",
       "      <td>Evet</td>\n",
       "      <td>Hayır</td>\n",
       "      <td>Hayır</td>\n",
       "      <td>Evet</td>\n",
       "      <td>Evet</td>\n",
       "      <td>Hayır</td>\n",
       "      <td>Hayır</td>\n",
       "      <td>IYI PARTI</td>\n",
       "    </tr>\n",
       "  </tbody>\n",
       "</table>\n",
       "</div>"
      ],
      "text/plain": [
       "  Cinsiyet  Yas  Bolge     Egitim  soru1 soru2  soru3  soru4  soru5  soru6  \\\n",
       "0    Erkek    2      1     Lisans  Hayır  Evet   Evet  Hayır  Hayır  Hayır   \n",
       "1    Erkek    2      1     Lisans   Evet  Evet  Hayır   Evet  Hayır   Evet   \n",
       "2    Kadın    2      1     Lisans  Hayır  Evet  Hayır  Hayır  Hayır  Hayır   \n",
       "3    Erkek    1      1       Lise   Evet  Evet  Hayır   Evet  Hayır   Evet   \n",
       "4    Erkek    2      1  Ön Lisans  Hayır  Evet   Evet   Evet  Hayır  Hayır   \n",
       "\n",
       "   soru7  soru8  soru9 soru10      parti  \n",
       "0   Evet  Hayır   Evet   Evet  IYI PARTI  \n",
       "1  Hayır   Evet  Hayır  Hayır        AKP  \n",
       "2   Evet  Hayır   Evet   Evet      DIĞER  \n",
       "3   Evet   Evet   Evet   Evet  IYI PARTI  \n",
       "4   Evet   Evet  Hayır  Hayır  IYI PARTI  "
      ]
     },
     "execution_count": 191,
     "metadata": {},
     "output_type": "execute_result"
    }
   ],
   "source": [
    "map_data = [data]\n",
    "bolge_mapping = {\"Marmara\" : 1, \"Ege\" : 2, \"Karadeniz\" : 3, \"Akdeniz\" : 4, \"İç Anadolu\" : 5 , \"Doğu Anadolu\" : 6, \"Güneydoğu\" : 7} \n",
    "for dataset in map_data:\n",
    "    dataset[\"Bolge\"] = dataset[\"Bolge\"].map(bolge_mapping)\n",
    "    dataset[\"Bolge\"] = dataset[\"Bolge\"].fillna(0)\n",
    "    \n",
    "data.head()"
   ]
  },
  {
   "cell_type": "markdown",
   "metadata": {},
   "source": [
    "### Veri setinde Eğitim sütununu numaralandırarak sınıflandırıyoruz.."
   ]
  },
  {
   "cell_type": "code",
   "execution_count": 192,
   "metadata": {},
   "outputs": [
    {
     "data": {
      "text/html": [
       "<div>\n",
       "<style scoped>\n",
       "    .dataframe tbody tr th:only-of-type {\n",
       "        vertical-align: middle;\n",
       "    }\n",
       "\n",
       "    .dataframe tbody tr th {\n",
       "        vertical-align: top;\n",
       "    }\n",
       "\n",
       "    .dataframe thead th {\n",
       "        text-align: right;\n",
       "    }\n",
       "</style>\n",
       "<table border=\"1\" class=\"dataframe\">\n",
       "  <thead>\n",
       "    <tr style=\"text-align: right;\">\n",
       "      <th></th>\n",
       "      <th>Cinsiyet</th>\n",
       "      <th>Yas</th>\n",
       "      <th>Bolge</th>\n",
       "      <th>Egitim</th>\n",
       "      <th>soru1</th>\n",
       "      <th>soru2</th>\n",
       "      <th>soru3</th>\n",
       "      <th>soru4</th>\n",
       "      <th>soru5</th>\n",
       "      <th>soru6</th>\n",
       "      <th>soru7</th>\n",
       "      <th>soru8</th>\n",
       "      <th>soru9</th>\n",
       "      <th>soru10</th>\n",
       "      <th>parti</th>\n",
       "    </tr>\n",
       "  </thead>\n",
       "  <tbody>\n",
       "    <tr>\n",
       "      <th>0</th>\n",
       "      <td>Erkek</td>\n",
       "      <td>2</td>\n",
       "      <td>1</td>\n",
       "      <td>5</td>\n",
       "      <td>Hayır</td>\n",
       "      <td>Evet</td>\n",
       "      <td>Evet</td>\n",
       "      <td>Hayır</td>\n",
       "      <td>Hayır</td>\n",
       "      <td>Hayır</td>\n",
       "      <td>Evet</td>\n",
       "      <td>Hayır</td>\n",
       "      <td>Evet</td>\n",
       "      <td>Evet</td>\n",
       "      <td>IYI PARTI</td>\n",
       "    </tr>\n",
       "    <tr>\n",
       "      <th>1</th>\n",
       "      <td>Erkek</td>\n",
       "      <td>2</td>\n",
       "      <td>1</td>\n",
       "      <td>5</td>\n",
       "      <td>Evet</td>\n",
       "      <td>Evet</td>\n",
       "      <td>Hayır</td>\n",
       "      <td>Evet</td>\n",
       "      <td>Hayır</td>\n",
       "      <td>Evet</td>\n",
       "      <td>Hayır</td>\n",
       "      <td>Evet</td>\n",
       "      <td>Hayır</td>\n",
       "      <td>Hayır</td>\n",
       "      <td>AKP</td>\n",
       "    </tr>\n",
       "    <tr>\n",
       "      <th>2</th>\n",
       "      <td>Kadın</td>\n",
       "      <td>2</td>\n",
       "      <td>1</td>\n",
       "      <td>5</td>\n",
       "      <td>Hayır</td>\n",
       "      <td>Evet</td>\n",
       "      <td>Hayır</td>\n",
       "      <td>Hayır</td>\n",
       "      <td>Hayır</td>\n",
       "      <td>Hayır</td>\n",
       "      <td>Evet</td>\n",
       "      <td>Hayır</td>\n",
       "      <td>Evet</td>\n",
       "      <td>Evet</td>\n",
       "      <td>DIĞER</td>\n",
       "    </tr>\n",
       "    <tr>\n",
       "      <th>3</th>\n",
       "      <td>Erkek</td>\n",
       "      <td>1</td>\n",
       "      <td>1</td>\n",
       "      <td>3</td>\n",
       "      <td>Evet</td>\n",
       "      <td>Evet</td>\n",
       "      <td>Hayır</td>\n",
       "      <td>Evet</td>\n",
       "      <td>Hayır</td>\n",
       "      <td>Evet</td>\n",
       "      <td>Evet</td>\n",
       "      <td>Evet</td>\n",
       "      <td>Evet</td>\n",
       "      <td>Evet</td>\n",
       "      <td>IYI PARTI</td>\n",
       "    </tr>\n",
       "    <tr>\n",
       "      <th>4</th>\n",
       "      <td>Erkek</td>\n",
       "      <td>2</td>\n",
       "      <td>1</td>\n",
       "      <td>4</td>\n",
       "      <td>Hayır</td>\n",
       "      <td>Evet</td>\n",
       "      <td>Evet</td>\n",
       "      <td>Evet</td>\n",
       "      <td>Hayır</td>\n",
       "      <td>Hayır</td>\n",
       "      <td>Evet</td>\n",
       "      <td>Evet</td>\n",
       "      <td>Hayır</td>\n",
       "      <td>Hayır</td>\n",
       "      <td>IYI PARTI</td>\n",
       "    </tr>\n",
       "  </tbody>\n",
       "</table>\n",
       "</div>"
      ],
      "text/plain": [
       "  Cinsiyet  Yas  Bolge  Egitim  soru1 soru2  soru3  soru4  soru5  soru6  \\\n",
       "0    Erkek    2      1       5  Hayır  Evet   Evet  Hayır  Hayır  Hayır   \n",
       "1    Erkek    2      1       5   Evet  Evet  Hayır   Evet  Hayır   Evet   \n",
       "2    Kadın    2      1       5  Hayır  Evet  Hayır  Hayır  Hayır  Hayır   \n",
       "3    Erkek    1      1       3   Evet  Evet  Hayır   Evet  Hayır   Evet   \n",
       "4    Erkek    2      1       4  Hayır  Evet   Evet   Evet  Hayır  Hayır   \n",
       "\n",
       "   soru7  soru8  soru9 soru10      parti  \n",
       "0   Evet  Hayır   Evet   Evet  IYI PARTI  \n",
       "1  Hayır   Evet  Hayır  Hayır        AKP  \n",
       "2   Evet  Hayır   Evet   Evet      DIĞER  \n",
       "3   Evet   Evet   Evet   Evet  IYI PARTI  \n",
       "4   Evet   Evet  Hayır  Hayır  IYI PARTI  "
      ]
     },
     "execution_count": 192,
     "metadata": {},
     "output_type": "execute_result"
    }
   ],
   "source": [
    "map_data = [data]\n",
    "egitim_mapping = {\"İlkokul\" : 1, \"Ortaokul\" : 2, \"Lise\" : 3, \"Ön Lisans\" : 4, \"Lisans\" : 5, \"Lisans Üstü\" : 6}\n",
    "for dataset in map_data:\n",
    "    dataset[\"Egitim\"] = dataset[\"Egitim\"].map(egitim_mapping)\n",
    "    dataset[\"Egitim\"] = dataset[\"Egitim\"].fillna(0)\n",
    "\n",
    "data.head()"
   ]
  },
  {
   "cell_type": "markdown",
   "metadata": {},
   "source": [
    "### Veri setinde cinsiyet sütununu numaralandırarak sınıflandırıyoruz."
   ]
  },
  {
   "cell_type": "code",
   "execution_count": 193,
   "metadata": {},
   "outputs": [
    {
     "data": {
      "text/html": [
       "<div>\n",
       "<style scoped>\n",
       "    .dataframe tbody tr th:only-of-type {\n",
       "        vertical-align: middle;\n",
       "    }\n",
       "\n",
       "    .dataframe tbody tr th {\n",
       "        vertical-align: top;\n",
       "    }\n",
       "\n",
       "    .dataframe thead th {\n",
       "        text-align: right;\n",
       "    }\n",
       "</style>\n",
       "<table border=\"1\" class=\"dataframe\">\n",
       "  <thead>\n",
       "    <tr style=\"text-align: right;\">\n",
       "      <th></th>\n",
       "      <th>Cinsiyet</th>\n",
       "      <th>Yas</th>\n",
       "      <th>Bolge</th>\n",
       "      <th>Egitim</th>\n",
       "      <th>soru1</th>\n",
       "      <th>soru2</th>\n",
       "      <th>soru3</th>\n",
       "      <th>soru4</th>\n",
       "      <th>soru5</th>\n",
       "      <th>soru6</th>\n",
       "      <th>soru7</th>\n",
       "      <th>soru8</th>\n",
       "      <th>soru9</th>\n",
       "      <th>soru10</th>\n",
       "      <th>parti</th>\n",
       "    </tr>\n",
       "  </thead>\n",
       "  <tbody>\n",
       "    <tr>\n",
       "      <th>0</th>\n",
       "      <td>1</td>\n",
       "      <td>2</td>\n",
       "      <td>1</td>\n",
       "      <td>5</td>\n",
       "      <td>Hayır</td>\n",
       "      <td>Evet</td>\n",
       "      <td>Evet</td>\n",
       "      <td>Hayır</td>\n",
       "      <td>Hayır</td>\n",
       "      <td>Hayır</td>\n",
       "      <td>Evet</td>\n",
       "      <td>Hayır</td>\n",
       "      <td>Evet</td>\n",
       "      <td>Evet</td>\n",
       "      <td>IYI PARTI</td>\n",
       "    </tr>\n",
       "    <tr>\n",
       "      <th>1</th>\n",
       "      <td>1</td>\n",
       "      <td>2</td>\n",
       "      <td>1</td>\n",
       "      <td>5</td>\n",
       "      <td>Evet</td>\n",
       "      <td>Evet</td>\n",
       "      <td>Hayır</td>\n",
       "      <td>Evet</td>\n",
       "      <td>Hayır</td>\n",
       "      <td>Evet</td>\n",
       "      <td>Hayır</td>\n",
       "      <td>Evet</td>\n",
       "      <td>Hayır</td>\n",
       "      <td>Hayır</td>\n",
       "      <td>AKP</td>\n",
       "    </tr>\n",
       "    <tr>\n",
       "      <th>2</th>\n",
       "      <td>0</td>\n",
       "      <td>2</td>\n",
       "      <td>1</td>\n",
       "      <td>5</td>\n",
       "      <td>Hayır</td>\n",
       "      <td>Evet</td>\n",
       "      <td>Hayır</td>\n",
       "      <td>Hayır</td>\n",
       "      <td>Hayır</td>\n",
       "      <td>Hayır</td>\n",
       "      <td>Evet</td>\n",
       "      <td>Hayır</td>\n",
       "      <td>Evet</td>\n",
       "      <td>Evet</td>\n",
       "      <td>DIĞER</td>\n",
       "    </tr>\n",
       "    <tr>\n",
       "      <th>3</th>\n",
       "      <td>1</td>\n",
       "      <td>1</td>\n",
       "      <td>1</td>\n",
       "      <td>3</td>\n",
       "      <td>Evet</td>\n",
       "      <td>Evet</td>\n",
       "      <td>Hayır</td>\n",
       "      <td>Evet</td>\n",
       "      <td>Hayır</td>\n",
       "      <td>Evet</td>\n",
       "      <td>Evet</td>\n",
       "      <td>Evet</td>\n",
       "      <td>Evet</td>\n",
       "      <td>Evet</td>\n",
       "      <td>IYI PARTI</td>\n",
       "    </tr>\n",
       "    <tr>\n",
       "      <th>4</th>\n",
       "      <td>1</td>\n",
       "      <td>2</td>\n",
       "      <td>1</td>\n",
       "      <td>4</td>\n",
       "      <td>Hayır</td>\n",
       "      <td>Evet</td>\n",
       "      <td>Evet</td>\n",
       "      <td>Evet</td>\n",
       "      <td>Hayır</td>\n",
       "      <td>Hayır</td>\n",
       "      <td>Evet</td>\n",
       "      <td>Evet</td>\n",
       "      <td>Hayır</td>\n",
       "      <td>Hayır</td>\n",
       "      <td>IYI PARTI</td>\n",
       "    </tr>\n",
       "  </tbody>\n",
       "</table>\n",
       "</div>"
      ],
      "text/plain": [
       "   Cinsiyet  Yas  Bolge  Egitim  soru1 soru2  soru3  soru4  soru5  soru6  \\\n",
       "0         1    2      1       5  Hayır  Evet   Evet  Hayır  Hayır  Hayır   \n",
       "1         1    2      1       5   Evet  Evet  Hayır   Evet  Hayır   Evet   \n",
       "2         0    2      1       5  Hayır  Evet  Hayır  Hayır  Hayır  Hayır   \n",
       "3         1    1      1       3   Evet  Evet  Hayır   Evet  Hayır   Evet   \n",
       "4         1    2      1       4  Hayır  Evet   Evet   Evet  Hayır  Hayır   \n",
       "\n",
       "   soru7  soru8  soru9 soru10      parti  \n",
       "0   Evet  Hayır   Evet   Evet  IYI PARTI  \n",
       "1  Hayır   Evet  Hayır  Hayır        AKP  \n",
       "2   Evet  Hayır   Evet   Evet      DIĞER  \n",
       "3   Evet   Evet   Evet   Evet  IYI PARTI  \n",
       "4   Evet   Evet  Hayır  Hayır  IYI PARTI  "
      ]
     },
     "execution_count": 193,
     "metadata": {},
     "output_type": "execute_result"
    }
   ],
   "source": [
    "map_data = [data]\n",
    "cinsiyet_mapping = {\"Erkek\" : 1, \"Kadın\" : 0}\n",
    "\n",
    "for dataset in map_data:\n",
    "    dataset[\"Cinsiyet\"] = dataset[\"Cinsiyet\"].map(cinsiyet_mapping)\n",
    "\n",
    "data.head()"
   ]
  },
  {
   "cell_type": "markdown",
   "metadata": {},
   "source": [
    "#### Column Name Değiştirme"
   ]
  },
  {
   "cell_type": "code",
   "execution_count": 194,
   "metadata": {},
   "outputs": [],
   "source": [
    "#data.rename(columns = {\"Cinsiyet\" : \"Sex\"})"
   ]
  },
  {
   "cell_type": "markdown",
   "metadata": {},
   "source": [
    "### Veri setinde parti sütununu numaralandırarak sınıflandırıyoruz."
   ]
  },
  {
   "cell_type": "code",
   "execution_count": 195,
   "metadata": {},
   "outputs": [
    {
     "data": {
      "text/html": [
       "<div>\n",
       "<style scoped>\n",
       "    .dataframe tbody tr th:only-of-type {\n",
       "        vertical-align: middle;\n",
       "    }\n",
       "\n",
       "    .dataframe tbody tr th {\n",
       "        vertical-align: top;\n",
       "    }\n",
       "\n",
       "    .dataframe thead th {\n",
       "        text-align: right;\n",
       "    }\n",
       "</style>\n",
       "<table border=\"1\" class=\"dataframe\">\n",
       "  <thead>\n",
       "    <tr style=\"text-align: right;\">\n",
       "      <th></th>\n",
       "      <th>Cinsiyet</th>\n",
       "      <th>Yas</th>\n",
       "      <th>Bolge</th>\n",
       "      <th>Egitim</th>\n",
       "      <th>soru1</th>\n",
       "      <th>soru2</th>\n",
       "      <th>soru3</th>\n",
       "      <th>soru4</th>\n",
       "      <th>soru5</th>\n",
       "      <th>soru6</th>\n",
       "      <th>soru7</th>\n",
       "      <th>soru8</th>\n",
       "      <th>soru9</th>\n",
       "      <th>soru10</th>\n",
       "      <th>parti</th>\n",
       "    </tr>\n",
       "  </thead>\n",
       "  <tbody>\n",
       "    <tr>\n",
       "      <th>0</th>\n",
       "      <td>1</td>\n",
       "      <td>2</td>\n",
       "      <td>1</td>\n",
       "      <td>5</td>\n",
       "      <td>Hayır</td>\n",
       "      <td>Evet</td>\n",
       "      <td>Evet</td>\n",
       "      <td>Hayır</td>\n",
       "      <td>Hayır</td>\n",
       "      <td>Hayır</td>\n",
       "      <td>Evet</td>\n",
       "      <td>Hayır</td>\n",
       "      <td>Evet</td>\n",
       "      <td>Evet</td>\n",
       "      <td>3</td>\n",
       "    </tr>\n",
       "    <tr>\n",
       "      <th>1</th>\n",
       "      <td>1</td>\n",
       "      <td>2</td>\n",
       "      <td>1</td>\n",
       "      <td>5</td>\n",
       "      <td>Evet</td>\n",
       "      <td>Evet</td>\n",
       "      <td>Hayır</td>\n",
       "      <td>Evet</td>\n",
       "      <td>Hayır</td>\n",
       "      <td>Evet</td>\n",
       "      <td>Hayır</td>\n",
       "      <td>Evet</td>\n",
       "      <td>Hayır</td>\n",
       "      <td>Hayır</td>\n",
       "      <td>1</td>\n",
       "    </tr>\n",
       "    <tr>\n",
       "      <th>2</th>\n",
       "      <td>0</td>\n",
       "      <td>2</td>\n",
       "      <td>1</td>\n",
       "      <td>5</td>\n",
       "      <td>Hayır</td>\n",
       "      <td>Evet</td>\n",
       "      <td>Hayır</td>\n",
       "      <td>Hayır</td>\n",
       "      <td>Hayır</td>\n",
       "      <td>Hayır</td>\n",
       "      <td>Evet</td>\n",
       "      <td>Hayır</td>\n",
       "      <td>Evet</td>\n",
       "      <td>Evet</td>\n",
       "      <td>6</td>\n",
       "    </tr>\n",
       "    <tr>\n",
       "      <th>3</th>\n",
       "      <td>1</td>\n",
       "      <td>1</td>\n",
       "      <td>1</td>\n",
       "      <td>3</td>\n",
       "      <td>Evet</td>\n",
       "      <td>Evet</td>\n",
       "      <td>Hayır</td>\n",
       "      <td>Evet</td>\n",
       "      <td>Hayır</td>\n",
       "      <td>Evet</td>\n",
       "      <td>Evet</td>\n",
       "      <td>Evet</td>\n",
       "      <td>Evet</td>\n",
       "      <td>Evet</td>\n",
       "      <td>3</td>\n",
       "    </tr>\n",
       "    <tr>\n",
       "      <th>4</th>\n",
       "      <td>1</td>\n",
       "      <td>2</td>\n",
       "      <td>1</td>\n",
       "      <td>4</td>\n",
       "      <td>Hayır</td>\n",
       "      <td>Evet</td>\n",
       "      <td>Evet</td>\n",
       "      <td>Evet</td>\n",
       "      <td>Hayır</td>\n",
       "      <td>Hayır</td>\n",
       "      <td>Evet</td>\n",
       "      <td>Evet</td>\n",
       "      <td>Hayır</td>\n",
       "      <td>Hayır</td>\n",
       "      <td>3</td>\n",
       "    </tr>\n",
       "  </tbody>\n",
       "</table>\n",
       "</div>"
      ],
      "text/plain": [
       "   Cinsiyet  Yas  Bolge  Egitim  soru1 soru2  soru3  soru4  soru5  soru6  \\\n",
       "0         1    2      1       5  Hayır  Evet   Evet  Hayır  Hayır  Hayır   \n",
       "1         1    2      1       5   Evet  Evet  Hayır   Evet  Hayır   Evet   \n",
       "2         0    2      1       5  Hayır  Evet  Hayır  Hayır  Hayır  Hayır   \n",
       "3         1    1      1       3   Evet  Evet  Hayır   Evet  Hayır   Evet   \n",
       "4         1    2      1       4  Hayır  Evet   Evet   Evet  Hayır  Hayır   \n",
       "\n",
       "   soru7  soru8  soru9 soru10  parti  \n",
       "0   Evet  Hayır   Evet   Evet      3  \n",
       "1  Hayır   Evet  Hayır  Hayır      1  \n",
       "2   Evet  Hayır   Evet   Evet      6  \n",
       "3   Evet   Evet   Evet   Evet      3  \n",
       "4   Evet   Evet  Hayır  Hayır      3  "
      ]
     },
     "execution_count": 195,
     "metadata": {},
     "output_type": "execute_result"
    }
   ],
   "source": [
    "map_data = [data]\n",
    "parti_mapping = {\"AKP\" : 1, \"CHP\" : 2, \"IYI PARTI\" : 3, \"MHP\" : 4, \"HDP\" : 5, \"DIĞER\" : 6}\n",
    "\n",
    "for dataset in map_data:\n",
    "    dataset[\"parti\"] = dataset[\"parti\"].map(parti_mapping)\n",
    "    dataset[\"parti\"] = dataset[\"parti\"].fillna(0)\n",
    "    \n",
    "data.head()"
   ]
  },
  {
   "cell_type": "markdown",
   "metadata": {},
   "source": [
    "### Soru cevaplarında ki EVET-HAYIR kısımlarını numaralandırarak sınıflandırıyoruz."
   ]
  },
  {
   "cell_type": "code",
   "execution_count": 196,
   "metadata": {},
   "outputs": [
    {
     "data": {
      "text/html": [
       "<div>\n",
       "<style scoped>\n",
       "    .dataframe tbody tr th:only-of-type {\n",
       "        vertical-align: middle;\n",
       "    }\n",
       "\n",
       "    .dataframe tbody tr th {\n",
       "        vertical-align: top;\n",
       "    }\n",
       "\n",
       "    .dataframe thead th {\n",
       "        text-align: right;\n",
       "    }\n",
       "</style>\n",
       "<table border=\"1\" class=\"dataframe\">\n",
       "  <thead>\n",
       "    <tr style=\"text-align: right;\">\n",
       "      <th></th>\n",
       "      <th>Cinsiyet</th>\n",
       "      <th>Yas</th>\n",
       "      <th>Bolge</th>\n",
       "      <th>Egitim</th>\n",
       "      <th>soru1</th>\n",
       "      <th>soru2</th>\n",
       "      <th>soru3</th>\n",
       "      <th>soru4</th>\n",
       "      <th>soru5</th>\n",
       "      <th>soru6</th>\n",
       "      <th>soru7</th>\n",
       "      <th>soru8</th>\n",
       "      <th>soru9</th>\n",
       "      <th>soru10</th>\n",
       "      <th>parti</th>\n",
       "    </tr>\n",
       "  </thead>\n",
       "  <tbody>\n",
       "    <tr>\n",
       "      <th>0</th>\n",
       "      <td>1</td>\n",
       "      <td>2</td>\n",
       "      <td>1</td>\n",
       "      <td>5</td>\n",
       "      <td>0</td>\n",
       "      <td>Evet</td>\n",
       "      <td>Evet</td>\n",
       "      <td>Hayır</td>\n",
       "      <td>Hayır</td>\n",
       "      <td>Hayır</td>\n",
       "      <td>Evet</td>\n",
       "      <td>Hayır</td>\n",
       "      <td>Evet</td>\n",
       "      <td>Evet</td>\n",
       "      <td>3</td>\n",
       "    </tr>\n",
       "    <tr>\n",
       "      <th>1</th>\n",
       "      <td>1</td>\n",
       "      <td>2</td>\n",
       "      <td>1</td>\n",
       "      <td>5</td>\n",
       "      <td>1</td>\n",
       "      <td>Evet</td>\n",
       "      <td>Hayır</td>\n",
       "      <td>Evet</td>\n",
       "      <td>Hayır</td>\n",
       "      <td>Evet</td>\n",
       "      <td>Hayır</td>\n",
       "      <td>Evet</td>\n",
       "      <td>Hayır</td>\n",
       "      <td>Hayır</td>\n",
       "      <td>1</td>\n",
       "    </tr>\n",
       "    <tr>\n",
       "      <th>2</th>\n",
       "      <td>0</td>\n",
       "      <td>2</td>\n",
       "      <td>1</td>\n",
       "      <td>5</td>\n",
       "      <td>0</td>\n",
       "      <td>Evet</td>\n",
       "      <td>Hayır</td>\n",
       "      <td>Hayır</td>\n",
       "      <td>Hayır</td>\n",
       "      <td>Hayır</td>\n",
       "      <td>Evet</td>\n",
       "      <td>Hayır</td>\n",
       "      <td>Evet</td>\n",
       "      <td>Evet</td>\n",
       "      <td>6</td>\n",
       "    </tr>\n",
       "    <tr>\n",
       "      <th>3</th>\n",
       "      <td>1</td>\n",
       "      <td>1</td>\n",
       "      <td>1</td>\n",
       "      <td>3</td>\n",
       "      <td>1</td>\n",
       "      <td>Evet</td>\n",
       "      <td>Hayır</td>\n",
       "      <td>Evet</td>\n",
       "      <td>Hayır</td>\n",
       "      <td>Evet</td>\n",
       "      <td>Evet</td>\n",
       "      <td>Evet</td>\n",
       "      <td>Evet</td>\n",
       "      <td>Evet</td>\n",
       "      <td>3</td>\n",
       "    </tr>\n",
       "    <tr>\n",
       "      <th>4</th>\n",
       "      <td>1</td>\n",
       "      <td>2</td>\n",
       "      <td>1</td>\n",
       "      <td>4</td>\n",
       "      <td>0</td>\n",
       "      <td>Evet</td>\n",
       "      <td>Evet</td>\n",
       "      <td>Evet</td>\n",
       "      <td>Hayır</td>\n",
       "      <td>Hayır</td>\n",
       "      <td>Evet</td>\n",
       "      <td>Evet</td>\n",
       "      <td>Hayır</td>\n",
       "      <td>Hayır</td>\n",
       "      <td>3</td>\n",
       "    </tr>\n",
       "  </tbody>\n",
       "</table>\n",
       "</div>"
      ],
      "text/plain": [
       "   Cinsiyet  Yas  Bolge  Egitim  soru1 soru2  soru3  soru4  soru5  soru6  \\\n",
       "0         1    2      1       5      0  Evet   Evet  Hayır  Hayır  Hayır   \n",
       "1         1    2      1       5      1  Evet  Hayır   Evet  Hayır   Evet   \n",
       "2         0    2      1       5      0  Evet  Hayır  Hayır  Hayır  Hayır   \n",
       "3         1    1      1       3      1  Evet  Hayır   Evet  Hayır   Evet   \n",
       "4         1    2      1       4      0  Evet   Evet   Evet  Hayır  Hayır   \n",
       "\n",
       "   soru7  soru8  soru9 soru10  parti  \n",
       "0   Evet  Hayır   Evet   Evet      3  \n",
       "1  Hayır   Evet  Hayır  Hayır      1  \n",
       "2   Evet  Hayır   Evet   Evet      6  \n",
       "3   Evet   Evet   Evet   Evet      3  \n",
       "4   Evet   Evet  Hayır  Hayır      3  "
      ]
     },
     "execution_count": 196,
     "metadata": {},
     "output_type": "execute_result"
    }
   ],
   "source": [
    "map_data = [data]\n",
    "soru_mapping = {\"Evet\" : 1, \"Hayır\" : 0}\n",
    "\n",
    "for dataset in map_data:\n",
    "    dataset[\"soru1\"] = dataset[\"soru1\"].map(soru_mapping)\n",
    "    \n",
    "data.head()\n"
   ]
  },
  {
   "cell_type": "code",
   "execution_count": 197,
   "metadata": {},
   "outputs": [
    {
     "data": {
      "text/html": [
       "<div>\n",
       "<style scoped>\n",
       "    .dataframe tbody tr th:only-of-type {\n",
       "        vertical-align: middle;\n",
       "    }\n",
       "\n",
       "    .dataframe tbody tr th {\n",
       "        vertical-align: top;\n",
       "    }\n",
       "\n",
       "    .dataframe thead th {\n",
       "        text-align: right;\n",
       "    }\n",
       "</style>\n",
       "<table border=\"1\" class=\"dataframe\">\n",
       "  <thead>\n",
       "    <tr style=\"text-align: right;\">\n",
       "      <th></th>\n",
       "      <th>Cinsiyet</th>\n",
       "      <th>Yas</th>\n",
       "      <th>Bolge</th>\n",
       "      <th>Egitim</th>\n",
       "      <th>soru1</th>\n",
       "      <th>soru2</th>\n",
       "      <th>soru3</th>\n",
       "      <th>soru4</th>\n",
       "      <th>soru5</th>\n",
       "      <th>soru6</th>\n",
       "      <th>soru7</th>\n",
       "      <th>soru8</th>\n",
       "      <th>soru9</th>\n",
       "      <th>soru10</th>\n",
       "      <th>parti</th>\n",
       "    </tr>\n",
       "  </thead>\n",
       "  <tbody>\n",
       "    <tr>\n",
       "      <th>0</th>\n",
       "      <td>1</td>\n",
       "      <td>2</td>\n",
       "      <td>1</td>\n",
       "      <td>5</td>\n",
       "      <td>0</td>\n",
       "      <td>1</td>\n",
       "      <td>1</td>\n",
       "      <td>0</td>\n",
       "      <td>0</td>\n",
       "      <td>0</td>\n",
       "      <td>1</td>\n",
       "      <td>0</td>\n",
       "      <td>1</td>\n",
       "      <td>1</td>\n",
       "      <td>3</td>\n",
       "    </tr>\n",
       "    <tr>\n",
       "      <th>1</th>\n",
       "      <td>1</td>\n",
       "      <td>2</td>\n",
       "      <td>1</td>\n",
       "      <td>5</td>\n",
       "      <td>1</td>\n",
       "      <td>1</td>\n",
       "      <td>0</td>\n",
       "      <td>1</td>\n",
       "      <td>0</td>\n",
       "      <td>1</td>\n",
       "      <td>0</td>\n",
       "      <td>1</td>\n",
       "      <td>0</td>\n",
       "      <td>0</td>\n",
       "      <td>1</td>\n",
       "    </tr>\n",
       "    <tr>\n",
       "      <th>2</th>\n",
       "      <td>0</td>\n",
       "      <td>2</td>\n",
       "      <td>1</td>\n",
       "      <td>5</td>\n",
       "      <td>0</td>\n",
       "      <td>1</td>\n",
       "      <td>0</td>\n",
       "      <td>0</td>\n",
       "      <td>0</td>\n",
       "      <td>0</td>\n",
       "      <td>1</td>\n",
       "      <td>0</td>\n",
       "      <td>1</td>\n",
       "      <td>1</td>\n",
       "      <td>6</td>\n",
       "    </tr>\n",
       "    <tr>\n",
       "      <th>3</th>\n",
       "      <td>1</td>\n",
       "      <td>1</td>\n",
       "      <td>1</td>\n",
       "      <td>3</td>\n",
       "      <td>1</td>\n",
       "      <td>1</td>\n",
       "      <td>0</td>\n",
       "      <td>1</td>\n",
       "      <td>0</td>\n",
       "      <td>1</td>\n",
       "      <td>1</td>\n",
       "      <td>1</td>\n",
       "      <td>1</td>\n",
       "      <td>1</td>\n",
       "      <td>3</td>\n",
       "    </tr>\n",
       "    <tr>\n",
       "      <th>4</th>\n",
       "      <td>1</td>\n",
       "      <td>2</td>\n",
       "      <td>1</td>\n",
       "      <td>4</td>\n",
       "      <td>0</td>\n",
       "      <td>1</td>\n",
       "      <td>1</td>\n",
       "      <td>1</td>\n",
       "      <td>0</td>\n",
       "      <td>0</td>\n",
       "      <td>1</td>\n",
       "      <td>1</td>\n",
       "      <td>0</td>\n",
       "      <td>0</td>\n",
       "      <td>3</td>\n",
       "    </tr>\n",
       "  </tbody>\n",
       "</table>\n",
       "</div>"
      ],
      "text/plain": [
       "   Cinsiyet  Yas  Bolge  Egitim  soru1  soru2  soru3  soru4  soru5  soru6  \\\n",
       "0         1    2      1       5      0      1      1      0      0      0   \n",
       "1         1    2      1       5      1      1      0      1      0      1   \n",
       "2         0    2      1       5      0      1      0      0      0      0   \n",
       "3         1    1      1       3      1      1      0      1      0      1   \n",
       "4         1    2      1       4      0      1      1      1      0      0   \n",
       "\n",
       "   soru7  soru8  soru9  soru10  parti  \n",
       "0      1      0      1       1      3  \n",
       "1      0      1      0       0      1  \n",
       "2      1      0      1       1      6  \n",
       "3      1      1      1       1      3  \n",
       "4      1      1      0       0      3  "
      ]
     },
     "execution_count": 197,
     "metadata": {},
     "output_type": "execute_result"
    }
   ],
   "source": [
    "map_data = [data]\n",
    "soru_mapping = {\"Evet\" : 1, \"Hayır\" : 0}\n",
    "\n",
    "for dataset in map_data:\n",
    "    dataset[\"soru2\"] = dataset[\"soru2\"].map(soru_mapping)\n",
    "    \n",
    "for dataset in map_data:\n",
    "    dataset[\"soru3\"] = dataset[\"soru3\"].map(soru_mapping)\n",
    "    \n",
    "for dataset in map_data:\n",
    "    dataset[\"soru4\"] = dataset[\"soru4\"].map(soru_mapping)\n",
    "    \n",
    "for dataset in map_data:\n",
    "    dataset[\"soru5\"] = dataset[\"soru5\"].map(soru_mapping)\n",
    "    \n",
    "for dataset in map_data:\n",
    "    dataset[\"soru6\"] = dataset[\"soru6\"].map(soru_mapping)\n",
    "    \n",
    "for dataset in map_data:\n",
    "    dataset[\"soru7\"] = dataset[\"soru7\"].map(soru_mapping)\n",
    "    \n",
    "for dataset in map_data:\n",
    "    dataset[\"soru8\"] = dataset[\"soru8\"].map(soru_mapping)\n",
    "    \n",
    "for dataset in map_data:\n",
    "    dataset[\"soru9\"] = dataset[\"soru9\"].map(soru_mapping)\n",
    "    \n",
    "for dataset in map_data:\n",
    "    dataset[\"soru10\"] = dataset[\"soru10\"].map(soru_mapping)\n",
    "    \n",
    "data.head()"
   ]
  },
  {
   "cell_type": "markdown",
   "metadata": {},
   "source": [
    "# Model Oluşturma"
   ]
  },
  {
   "cell_type": "markdown",
   "metadata": {},
   "source": [
    "### Algoritmaları kullanıp en uygununu seçeceğiz. Veri setimiz az olduğu için hepsini eğitim seti olarak kullanacağız. Test verisini kendimiz oluşturacağız."
   ]
  },
  {
   "cell_type": "markdown",
   "metadata": {},
   "source": [
    "## Naive Bayes"
   ]
  },
  {
   "cell_type": "markdown",
   "metadata": {},
   "source": [
    "#### Eğitim setimizi X ve y olarak ayırıyoruz ve bağımlı, bağımsız değişkeni ayırarak X ve y değişkenine atıyoruz. "
   ]
  },
  {
   "cell_type": "code",
   "execution_count": 198,
   "metadata": {},
   "outputs": [],
   "source": [
    "X = data.drop(\"parti\", axis = 1) # BAĞIMSIZ DEĞİŞKENLER\n",
    "y = data[\"parti\"] # BAĞIMLI DEĞİŞKEN"
   ]
  },
  {
   "cell_type": "markdown",
   "metadata": {},
   "source": [
    "#### Modelimizi oluşturuyoruz."
   ]
  },
  {
   "cell_type": "code",
   "execution_count": 199,
   "metadata": {},
   "outputs": [],
   "source": [
    "nv = GaussianNB()"
   ]
  },
  {
   "cell_type": "markdown",
   "metadata": {},
   "source": [
    "#### Modelimizi bağımlı ve bağımsız değişken ile ayırdıklarımızla eğitiyoruz."
   ]
  },
  {
   "cell_type": "code",
   "execution_count": 200,
   "metadata": {},
   "outputs": [],
   "source": [
    "model_nv = nv.fit(X,y)"
   ]
  },
  {
   "cell_type": "markdown",
   "metadata": {},
   "source": [
    "#### Soruların cevaplarına göre kendi test verimizi oluşturup dataframe çevirerek transpozunu aldık."
   ]
  },
  {
   "cell_type": "code",
   "execution_count": 201,
   "metadata": {},
   "outputs": [],
   "source": [
    "test_verim =  [[1],[2],[3],[5],[0],[0],[0],[1],[1],[1],[0],[1],[1],[1]]\n",
    "test_verim = pd.DataFrame(test_verim).T"
   ]
  },
  {
   "cell_type": "markdown",
   "metadata": {},
   "source": [
    "#### Tahmin işlemi yapıyoruz."
   ]
  },
  {
   "cell_type": "code",
   "execution_count": 202,
   "metadata": {},
   "outputs": [
    {
     "data": {
      "text/plain": [
       "array([1], dtype=int64)"
      ]
     },
     "execution_count": 202,
     "metadata": {},
     "output_type": "execute_result"
    }
   ],
   "source": [
    "nv.predict(test_verim)"
   ]
  },
  {
   "cell_type": "markdown",
   "metadata": {},
   "source": [
    "### Hata Hesabı"
   ]
  },
  {
   "cell_type": "markdown",
   "metadata": {},
   "source": [
    "#### R2 HATA HESABI"
   ]
  },
  {
   "cell_type": "markdown",
   "metadata": {},
   "source": [
    "#### r2 hata hesabı ile eğitim hatamızı buluyoruz."
   ]
  },
  {
   "cell_type": "code",
   "execution_count": 203,
   "metadata": {},
   "outputs": [
    {
     "name": "stderr",
     "output_type": "stream",
     "text": [
      "C:\\Users\\asel\\Anaconda3\\lib\\site-packages\\sklearn\\model_selection\\_split.py:605: Warning: The least populated class in y has only 3 members, which is too few. The minimum number of members in any class cannot be less than n_splits=5.\n",
      "  % (min_groups, self.n_splits)), Warning)\n"
     ]
    },
    {
     "data": {
      "text/plain": [
       "1.3580958999376045"
      ]
     },
     "execution_count": 203,
     "metadata": {},
     "output_type": "execute_result"
    }
   ],
   "source": [
    "-(cross_val_score(model_nv, X, y, cv=5, scoring=\"r2\").mean())"
   ]
  },
  {
   "cell_type": "markdown",
   "metadata": {},
   "source": [
    "#### HATA KARELER ORTALAMASI"
   ]
  },
  {
   "cell_type": "markdown",
   "metadata": {},
   "source": [
    "#### Hata kareler ortalaması ile eğitim hatamızı buluyoruz."
   ]
  },
  {
   "cell_type": "code",
   "execution_count": 204,
   "metadata": {},
   "outputs": [
    {
     "name": "stderr",
     "output_type": "stream",
     "text": [
      "C:\\Users\\asel\\Anaconda3\\lib\\site-packages\\sklearn\\model_selection\\_split.py:605: Warning: The least populated class in y has only 3 members, which is too few. The minimum number of members in any class cannot be less than n_splits=10.\n",
      "  % (min_groups, self.n_splits)), Warning)\n"
     ]
    },
    {
     "data": {
      "text/plain": [
       "2.7908026808334374"
      ]
     },
     "execution_count": 204,
     "metadata": {},
     "output_type": "execute_result"
    }
   ],
   "source": [
    "valide_sonuc_nv = np.sqrt(-cross_val_score(model_nv, X, y, cv=5, scoring=\"neg_mean_squared_error\")).mean()\n",
    "valide_sonuc_nv"
   ]
  },
  {
   "cell_type": "markdown",
   "metadata": {},
   "source": [
    "## Knn"
   ]
  },
  {
   "cell_type": "markdown",
   "metadata": {},
   "source": [
    "#### Eğitim setimizi X ve y olarak ayırıyoruz ve bağımlı, bağımsız değişkeni ayırarak X ve y değişkenine atıyoruz. "
   ]
  },
  {
   "cell_type": "code",
   "execution_count": 205,
   "metadata": {},
   "outputs": [],
   "source": [
    "X = data.drop(\"parti\", axis = 1) # BAĞIMSIZ DEĞİŞKENLER\n",
    "y = data[\"parti\"] # BAĞIMLI DEĞİŞKEN"
   ]
  },
  {
   "cell_type": "markdown",
   "metadata": {},
   "source": [
    "#### Modelimizi oluşturuyoruz.  Komşu sayımızı da 3 olarak belirliyoruz."
   ]
  },
  {
   "cell_type": "code",
   "execution_count": 206,
   "metadata": {},
   "outputs": [],
   "source": [
    "knn = KNeighborsClassifier(n_neighbors=3)"
   ]
  },
  {
   "cell_type": "markdown",
   "metadata": {},
   "source": [
    "#### Modelimizi bağımlı ve bağımsız değişken ile ayırdıklarımızla eğitiyoruz."
   ]
  },
  {
   "cell_type": "code",
   "execution_count": 207,
   "metadata": {},
   "outputs": [],
   "source": [
    "model_knn = knn.fit(X,y)"
   ]
  },
  {
   "cell_type": "markdown",
   "metadata": {},
   "source": [
    "#### Modelimizi bağımlı ve bağımsız değişken ile ayırdıklarımızla eğitiyoruz."
   ]
  },
  {
   "cell_type": "code",
   "execution_count": 208,
   "metadata": {},
   "outputs": [],
   "source": [
    "test_verim = [[1],[2],[3],[5],[0],[0],[0],[1],[1],[1],[0],[1],[1],[1]]\n",
    "test_verim = pd.DataFrame(test_verim).T"
   ]
  },
  {
   "cell_type": "markdown",
   "metadata": {},
   "source": [
    "#### Tahmin işlemi yapıyoruz."
   ]
  },
  {
   "cell_type": "code",
   "execution_count": 209,
   "metadata": {},
   "outputs": [
    {
     "data": {
      "text/plain": [
       "array([3], dtype=int64)"
      ]
     },
     "execution_count": 209,
     "metadata": {},
     "output_type": "execute_result"
    }
   ],
   "source": [
    "knn.predict(test_verim)"
   ]
  },
  {
   "cell_type": "markdown",
   "metadata": {},
   "source": [
    "### Hata Hesabı"
   ]
  },
  {
   "cell_type": "markdown",
   "metadata": {},
   "source": [
    "#### R2 HATA HESABI"
   ]
  },
  {
   "cell_type": "markdown",
   "metadata": {},
   "source": [
    "#### r2 hata hesabı ile eğitim hatamızı buluyoruz."
   ]
  },
  {
   "cell_type": "code",
   "execution_count": 210,
   "metadata": {},
   "outputs": [
    {
     "name": "stderr",
     "output_type": "stream",
     "text": [
      "C:\\Users\\asel\\Anaconda3\\lib\\site-packages\\sklearn\\model_selection\\_split.py:605: Warning: The least populated class in y has only 3 members, which is too few. The minimum number of members in any class cannot be less than n_splits=5.\n",
      "  % (min_groups, self.n_splits)), Warning)\n"
     ]
    },
    {
     "data": {
      "text/plain": [
       "0.6379139060635028"
      ]
     },
     "execution_count": 210,
     "metadata": {},
     "output_type": "execute_result"
    }
   ],
   "source": [
    "-(cross_val_score(model_knn, X, y, cv=5, scoring=\"r2\").mean())"
   ]
  },
  {
   "cell_type": "markdown",
   "metadata": {},
   "source": [
    "#### HATA KARELER ORTALAMASI"
   ]
  },
  {
   "cell_type": "markdown",
   "metadata": {},
   "source": [
    "#### Hata kareler ortalaması ile eğitim hatamızı buluyoruz."
   ]
  },
  {
   "cell_type": "code",
   "execution_count": 211,
   "metadata": {},
   "outputs": [
    {
     "name": "stderr",
     "output_type": "stream",
     "text": [
      "C:\\Users\\asel\\Anaconda3\\lib\\site-packages\\sklearn\\model_selection\\_split.py:605: Warning: The least populated class in y has only 3 members, which is too few. The minimum number of members in any class cannot be less than n_splits=5.\n",
      "  % (min_groups, self.n_splits)), Warning)\n"
     ]
    },
    {
     "data": {
      "text/plain": [
       "2.328670812662972"
      ]
     },
     "execution_count": 211,
     "metadata": {},
     "output_type": "execute_result"
    }
   ],
   "source": [
    "valide_sonuc_knn = np.sqrt(-cross_val_score(model_knn, X, y, cv=5, scoring=\"neg_mean_squared_error\")).mean()\n",
    "valide_sonuc_knn"
   ]
  },
  {
   "cell_type": "markdown",
   "metadata": {},
   "source": [
    "## Random Forest"
   ]
  },
  {
   "cell_type": "markdown",
   "metadata": {},
   "source": [
    "#### Eğitim setimizi X ve y olarak ayırıyoruz ve bağımlı, bağımsız değişkeni ayırarak X ve y değişkenine atıyoruz. "
   ]
  },
  {
   "cell_type": "code",
   "execution_count": 212,
   "metadata": {},
   "outputs": [],
   "source": [
    "X = data.drop(\"parti\", axis = 1) # BAĞIMSIZ DEĞİŞKENLER\n",
    "y = data[\"parti\"] # BAĞIMLI DEĞİŞKEN"
   ]
  },
  {
   "cell_type": "markdown",
   "metadata": {},
   "source": [
    "#### Modelimizi oluşturuyoruz.  Komşu sayımızı da 3 olarak belirliyoruz."
   ]
  },
  {
   "cell_type": "code",
   "execution_count": 213,
   "metadata": {},
   "outputs": [],
   "source": [
    "ran_forest = RandomForestClassifier()"
   ]
  },
  {
   "cell_type": "markdown",
   "metadata": {},
   "source": [
    "#### Modelimizi bağımlı ve bağımsız değişken ile ayırdıklarımızla eğitiyoruz."
   ]
  },
  {
   "cell_type": "code",
   "execution_count": 214,
   "metadata": {},
   "outputs": [],
   "source": [
    "model_rforest = ran_forest.fit(X,y)"
   ]
  },
  {
   "cell_type": "markdown",
   "metadata": {},
   "source": [
    "#### Modelimizi bağımlı ve bağımsız değişken ile ayırdıklarımızla eğitiyoruz."
   ]
  },
  {
   "cell_type": "code",
   "execution_count": 215,
   "metadata": {},
   "outputs": [],
   "source": [
    "test_verim = [[1],[2],[3],[5],[0],[0],[0],[1],[1],[1],[0],[1],[1],[1]]\n",
    "test_verim = pd.DataFrame(test_verim).T"
   ]
  },
  {
   "cell_type": "markdown",
   "metadata": {},
   "source": [
    "#### Tahmin işlemi yapıyoruz."
   ]
  },
  {
   "cell_type": "code",
   "execution_count": 216,
   "metadata": {},
   "outputs": [
    {
     "data": {
      "text/plain": [
       "array([1], dtype=int64)"
      ]
     },
     "execution_count": 216,
     "metadata": {},
     "output_type": "execute_result"
    }
   ],
   "source": [
    "ran_forest.predict(test_verim)"
   ]
  },
  {
   "cell_type": "markdown",
   "metadata": {},
   "source": [
    "### Hata Hesabı"
   ]
  },
  {
   "cell_type": "markdown",
   "metadata": {},
   "source": [
    "#### R2 HATA HESABI"
   ]
  },
  {
   "cell_type": "markdown",
   "metadata": {},
   "source": [
    "#### r2 hata hesabı ile eğitim hatamızı buluyoruz."
   ]
  },
  {
   "cell_type": "code",
   "execution_count": 217,
   "metadata": {},
   "outputs": [
    {
     "name": "stderr",
     "output_type": "stream",
     "text": [
      "C:\\Users\\asel\\Anaconda3\\lib\\site-packages\\sklearn\\model_selection\\_split.py:605: Warning: The least populated class in y has only 3 members, which is too few. The minimum number of members in any class cannot be less than n_splits=10.\n",
      "  % (min_groups, self.n_splits)), Warning)\n"
     ]
    },
    {
     "data": {
      "text/plain": [
       "0.3924934202610807"
      ]
     },
     "execution_count": 217,
     "metadata": {},
     "output_type": "execute_result"
    }
   ],
   "source": [
    "-(cross_val_score(model_rforest, X, y, cv=10, scoring=\"r2\").mean())"
   ]
  },
  {
   "cell_type": "markdown",
   "metadata": {},
   "source": [
    "#### HATA KARELER ORTALAMASI"
   ]
  },
  {
   "cell_type": "markdown",
   "metadata": {},
   "source": [
    "#### Hata kareler ortalaması ile eğitim hatamızı buluyoruz."
   ]
  },
  {
   "cell_type": "code",
   "execution_count": 218,
   "metadata": {},
   "outputs": [
    {
     "name": "stderr",
     "output_type": "stream",
     "text": [
      "C:\\Users\\asel\\Anaconda3\\lib\\site-packages\\sklearn\\model_selection\\_split.py:605: Warning: The least populated class in y has only 3 members, which is too few. The minimum number of members in any class cannot be less than n_splits=10.\n",
      "  % (min_groups, self.n_splits)), Warning)\n"
     ]
    },
    {
     "data": {
      "text/plain": [
       "2.245749627089584"
      ]
     },
     "execution_count": 218,
     "metadata": {},
     "output_type": "execute_result"
    }
   ],
   "source": [
    "valide_sonuc_random = np.sqrt(-cross_val_score(model_rforest, X, y, cv=5, scoring=\"neg_mean_squared_error\")).mean()\n",
    "valide_sonuc_random"
   ]
  },
  {
   "cell_type": "markdown",
   "metadata": {},
   "source": [
    "# Sonuçların Görselleştirilmesi"
   ]
  },
  {
   "cell_type": "code",
   "execution_count": 219,
   "metadata": {},
   "outputs": [
    {
     "data": {
      "image/png": "[encoded data removed]",
      "text/plain": [
       "<Figure size 432x288 with 1 Axes>"
      ]
     },
     "metadata": {},
     "output_type": "display_data"
    }
   ],
   "source": [
    "y = [valide_sonuc_nv, valide_sonuc_knn, valide_sonuc_random]\n",
    "x_labels = ['Naive Bayes', 'KNN', 'Random Forest']\n",
    "x_pos = np.arange(len(y))\n",
    "\n",
    "plt.barh(x_pos,y,color = [\"red\",\"blue\",\"green\"])\n",
    "\n",
    "plt.title(\"Hata Hesab Başarısı\")\n",
    "\n",
    "plt.yticks(x_pos,x_labels);\n",
    "\n",
    "plt.ylabel(\"Algoritmalar\")\n",
    "plt.xlabel(\"Başarı\")\n",
    "plt.show();"
   ]
  },
  {
   "cell_type": "markdown",
   "metadata": {},
   "source": [
    "### Yapılan değerlendirme sonucunda Naive Bayes en yüksek değeri vermiştir. En az değeri Random Forest olduğu için en uygun algoritma olmuştur."
   ]
  },
  {
   "cell_type": "markdown",
   "metadata": {},
   "source": [
    "## --------------------------------------------------------------------------"
   ]
  },
  {
   "cell_type": "markdown",
   "metadata": {},
   "source": [
    "## Yapmış olduğumuz bu makine öğrenmesi örneğinde veri setimiz çok kısıtlı olduğu için çok doğru sonuçlar alamadık. Kullandığımız bu iki algoritma arasında Random Forest algoritması daha az hata verdiği için tercih edilir. Ve bu şekilde belli sorular ile insanların hangi partiye oy vereceğinin tahmini yapılır."
   ]
  }
 ],
 "metadata": {
  "kernelspec": {
   "display_name": "Python 3",
   "language": "python",
   "name": "python3"
  },
  "language_info": {
   "codemirror_mode": {
    "name": "ipython",
    "version": 3
   },
   "file_extension": ".py",
   "mimetype": "text/x-python",
   "name": "python",
   "nbconvert_exporter": "python",
   "pygments_lexer": "ipython3",
   "version": "3.7.0"
  }
 },
 "nbformat": 4,
 "nbformat_minor": 2
}
